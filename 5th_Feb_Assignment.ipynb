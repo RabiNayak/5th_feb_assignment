{
 "cells": [
  {
   "cell_type": "markdown",
   "id": "c6418cff-1014-4db1-8ec0-39d8704716bd",
   "metadata": {},
   "source": [
    "Q1. Explain Class and Object with respect to Object-Oriented Programming. Give a suitable example.\n"
   ]
  },
  {
   "cell_type": "markdown",
   "id": "7622c70f-0a43-4b3f-a909-3783eb17d6b6",
   "metadata": {},
   "source": [
    "In Object-Oriented Programming (OOP), a class is a blueprint or a template for creating objects of a particular type. It defines the attributes and behaviors that are common to all objects of that type.\n",
    "Where As Object is an instance of a class. It is a concrete entity that has a unique state and behavior based on the class from which it was created.\n"
   ]
  },
  {
   "cell_type": "markdown",
   "id": "03d96276-fa78-4361-8e10-d3ba0bdbcfdc",
   "metadata": {},
   "source": [
    "Ex-"
   ]
  },
  {
   "cell_type": "code",
   "execution_count": 1,
   "id": "b3d194d7-dd6f-4acd-9f08-0dcf6f054e6c",
   "metadata": {},
   "outputs": [],
   "source": [
    "class car:\n",
    "    def car_is_ok(self):\n",
    "        print(\"car is running and is in ok condition\")"
   ]
  },
  {
   "cell_type": "code",
   "execution_count": 2,
   "id": "98672db5-212f-4fdf-8633-b78aa215c8fd",
   "metadata": {},
   "outputs": [],
   "source": [
    "my_car=car()"
   ]
  },
  {
   "cell_type": "code",
   "execution_count": 3,
   "id": "b89f6457-12a2-4d29-bddf-0634e6c7464b",
   "metadata": {},
   "outputs": [
    {
     "name": "stdout",
     "output_type": "stream",
     "text": [
      "car is running and is in ok condition\n"
     ]
    }
   ],
   "source": [
    "my_car.car_is_ok()"
   ]
  },
  {
   "cell_type": "code",
   "execution_count": null,
   "id": "9c3ed66d-6388-4ba0-ac91-7bf8f9876894",
   "metadata": {},
   "outputs": [],
   "source": [
    "#here car is a class where as my_car is the object of the car class "
   ]
  },
  {
   "cell_type": "markdown",
   "id": "8918057a-3f5e-417d-a86b-741dcf2058e8",
   "metadata": {},
   "source": [
    "Q2. Name the four pillars of OOPs"
   ]
  },
  {
   "cell_type": "markdown",
   "id": "c2ac063e-0f89-483b-9fc5-d3a07de2391b",
   "metadata": {},
   "source": [
    "i)INHERITANCE\n",
    "\n",
    "ii)POLYMERPHISM\n",
    "\n",
    "iii)ENCAPSULATION\n",
    "\n",
    "iv)ABSTRACTION"
   ]
  },
  {
   "cell_type": "markdown",
   "id": "3167ec50-70e7-4e59-9f3a-8bba541979dc",
   "metadata": {},
   "source": [
    "Q3. Explain why the __init__() function is used. Give a suitable example."
   ]
  },
  {
   "cell_type": "markdown",
   "id": "6eb67806-2db9-4958-b0d9-6e0fa41b9a18",
   "metadata": {},
   "source": [
    "The __init__() function is a special method that is called when an instance of a class is created. It is used to initialize the attributes of the instance with default values or values passed as arguments.\n"
   ]
  },
  {
   "cell_type": "markdown",
   "id": "06340754-62a4-48d1-91a0-27c5b24745dd",
   "metadata": {},
   "source": [
    "Ex_"
   ]
  },
  {
   "cell_type": "code",
   "execution_count": 5,
   "id": "955bcc8f-c152-4c6b-99e4-760985cd818e",
   "metadata": {},
   "outputs": [],
   "source": [
    "class person:\n",
    "    def __init__(self,name,age):\n",
    "        self.name=name\n",
    "        self.age=age\n",
    "    def details(self):\n",
    "        return self.name,self.age"
   ]
  },
  {
   "cell_type": "code",
   "execution_count": 9,
   "id": "12947eac-b43d-4b05-9b4d-7288afed6176",
   "metadata": {},
   "outputs": [],
   "source": [
    "me=person(\"rabi\",20)"
   ]
  },
  {
   "cell_type": "code",
   "execution_count": 11,
   "id": "f5471c63-481f-459f-85eb-8c3c5237945c",
   "metadata": {},
   "outputs": [
    {
     "data": {
      "text/plain": [
       "('rabi', 20)"
      ]
     },
     "execution_count": 11,
     "metadata": {},
     "output_type": "execute_result"
    }
   ],
   "source": [
    "me.details()\n",
    "#here in it function takes the input name and age"
   ]
  },
  {
   "cell_type": "markdown",
   "id": "860b08f1-ee16-4fb4-a80e-8c45cbeba276",
   "metadata": {},
   "source": [
    "Q4. Why self is used in OOPs?"
   ]
  },
  {
   "cell_type": "markdown",
   "id": "8f0ffbb0-9d2d-4115-9fa3-fa2acc596e3f",
   "metadata": {},
   "source": [
    "In Object-Oriented Programming (OOP), the \"self\" keyword refers to the instance of a class that is currently being operated on. It is a reference to the object that is executing the current method or function.\n",
    "\n",
    "The use of \"self\" is essential in OOP because it allows for the creation of dynamic and flexible classes. When a method is called on an instance of a class, the \"self\" parameter is used to refer to that particular instance. "
   ]
  },
  {
   "cell_type": "markdown",
   "id": "a8627b23-dcf9-4653-9a29-72c65ea18355",
   "metadata": {},
   "source": [
    "Q5. What is inheritance? Give an example for each type of inheritance."
   ]
  },
  {
   "cell_type": "markdown",
   "id": "d2443c9a-ad01-42b7-aa2f-03a98a506533",
   "metadata": {},
   "source": [
    "Inheritance is a fundamental feature of object-oriented programming (OOP) that allows a new class to be based on an existing class. The new class, called the derived class or the child class, inherits all the properties and methods of the existing class, called the base class or the parent class.\n",
    "\n",
    "There are three types of inheritance\n",
    "\n",
    "i)Single Inheritance\n",
    "\n",
    "ii)Multiple Inheritance\n",
    "\n",
    "iii)Multilevel Inheritance"
   ]
  },
  {
   "cell_type": "markdown",
   "id": "4c8769f6-90c4-4523-accc-9da5e652f366",
   "metadata": {},
   "source": [
    "i)Single Inheritance Ex-"
   ]
  },
  {
   "cell_type": "code",
   "execution_count": 31,
   "id": "13bb1166-f437-4097-9363-fd274336445f",
   "metadata": {},
   "outputs": [],
   "source": [
    "class animal:\n",
    "    def about(self):\n",
    "        print(\"this is an animal\")"
   ]
  },
  {
   "cell_type": "code",
   "execution_count": 33,
   "id": "d1e38ccd-18b8-43a8-9922-2994a8d3c727",
   "metadata": {},
   "outputs": [],
   "source": [
    "class dog(animal):\n",
    "    pass"
   ]
  },
  {
   "cell_type": "code",
   "execution_count": 35,
   "id": "9a2c025d-5ab6-40fd-8182-cd8489b6ca8f",
   "metadata": {},
   "outputs": [],
   "source": [
    "tom=dog()"
   ]
  },
  {
   "cell_type": "code",
   "execution_count": 36,
   "id": "9b4702bd-b729-404c-aa5e-f0ff4baf62e4",
   "metadata": {},
   "outputs": [
    {
     "name": "stdout",
     "output_type": "stream",
     "text": [
      "this is an animal\n"
     ]
    }
   ],
   "source": [
    "tom.about()"
   ]
  },
  {
   "cell_type": "markdown",
   "id": "bacc8ad4-58de-4a2f-9519-a9326d8b2389",
   "metadata": {},
   "source": [
    "ii)Multiple Inheritance Ex-"
   ]
  },
  {
   "cell_type": "code",
   "execution_count": 39,
   "id": "eaa854eb-bdc8-4877-84f1-fa7ba7b1cd69",
   "metadata": {},
   "outputs": [],
   "source": [
    "class class1:\n",
    "    def method_cl1(self):\n",
    "        print(\"this is method from class 1\")\n",
    "class class2:\n",
    "    def method_cl2(self):\n",
    "        print(\"this is method from class 2\")\n",
    "class class3(class1,class2):\n",
    "    pass"
   ]
  },
  {
   "cell_type": "code",
   "execution_count": 40,
   "id": "7b9d5a37-9c91-4160-b72e-25615e51ef7e",
   "metadata": {},
   "outputs": [],
   "source": [
    "cl=class3()"
   ]
  },
  {
   "cell_type": "code",
   "execution_count": 41,
   "id": "47533602-608e-44f3-a723-c57dcd38da38",
   "metadata": {},
   "outputs": [
    {
     "name": "stdout",
     "output_type": "stream",
     "text": [
      "this is method from class 1\n"
     ]
    }
   ],
   "source": [
    "cl.method_cl1()"
   ]
  },
  {
   "cell_type": "code",
   "execution_count": 42,
   "id": "be86ebd2-72ff-4582-94b0-4453dca2f5fe",
   "metadata": {},
   "outputs": [
    {
     "name": "stdout",
     "output_type": "stream",
     "text": [
      "this is method from class 2\n"
     ]
    }
   ],
   "source": [
    "cl.method_cl2()"
   ]
  },
  {
   "cell_type": "markdown",
   "id": "3b6a7168-3b83-428d-a7de-766659a9e344",
   "metadata": {},
   "source": [
    "iii)Multilevel Inheritance Ex-"
   ]
  },
  {
   "cell_type": "code",
   "execution_count": 43,
   "id": "951b7ece-8e9c-43c8-962b-af9c8fa4efc9",
   "metadata": {},
   "outputs": [],
   "source": [
    "class Animal:\n",
    "    def about(self):\n",
    "        print(\"This is an animal\")\n",
    "class Mammal(Animal):\n",
    "    def about1(self):\n",
    "        print(\"This is a Mammal also\")\n",
    "class dog(Mammal):\n",
    "    pass"
   ]
  },
  {
   "cell_type": "code",
   "execution_count": 44,
   "id": "c1c99d98-6a8e-487c-94bb-3539a6e5fbdf",
   "metadata": {},
   "outputs": [],
   "source": [
    "tom=dog()"
   ]
  },
  {
   "cell_type": "code",
   "execution_count": 45,
   "id": "a89ebe6c-0320-437f-9b67-8403ef064215",
   "metadata": {},
   "outputs": [
    {
     "name": "stdout",
     "output_type": "stream",
     "text": [
      "This is an animal\n"
     ]
    }
   ],
   "source": [
    "tom.about()"
   ]
  },
  {
   "cell_type": "code",
   "execution_count": 46,
   "id": "21f460f0-6acf-4107-8d60-be59e90bb72c",
   "metadata": {},
   "outputs": [
    {
     "name": "stdout",
     "output_type": "stream",
     "text": [
      "This is a Mammal also\n"
     ]
    }
   ],
   "source": [
    "tom.about1()"
   ]
  },
  {
   "cell_type": "code",
   "execution_count": null,
   "id": "3f3ed9b9-5166-4230-87c1-6301d750d1d3",
   "metadata": {},
   "outputs": [],
   "source": []
  }
 ],
 "metadata": {
  "kernelspec": {
   "display_name": "Python 3 (ipykernel)",
   "language": "python",
   "name": "python3"
  },
  "language_info": {
   "codemirror_mode": {
    "name": "ipython",
    "version": 3
   },
   "file_extension": ".py",
   "mimetype": "text/x-python",
   "name": "python",
   "nbconvert_exporter": "python",
   "pygments_lexer": "ipython3",
   "version": "3.10.8"
  }
 },
 "nbformat": 4,
 "nbformat_minor": 5
}
